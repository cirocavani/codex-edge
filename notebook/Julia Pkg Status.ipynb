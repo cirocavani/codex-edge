{
 "cells": [
  {
   "cell_type": "code",
   "execution_count": 2,
   "metadata": {
    "collapsed": false
   },
   "outputs": [
    {
     "name": "stdout",
     "output_type": "stream",
     "text": [
      "Julia Version 0.4.5\n",
      "Commit 2ac304d (2016-03-18 00:58 UTC)\n",
      "Platform Info:\n",
      "  System: Linux (x86_64-unknown-linux-gnu)\n",
      "  CPU: Intel(R) Core(TM) i5-4200U CPU @ 1.60GHz\n",
      "  WORD_SIZE: 64\n",
      "  BLAS: libopenblas (DYNAMIC_ARCH NO_AFFINITY Haswell)\n",
      "  LAPACK: libopenblas\n",
      "  LIBM: libm\n",
      "  LLVM: libLLVM-3.3\n"
     ]
    }
   ],
   "source": [
    "versioninfo()"
   ]
  },
  {
   "cell_type": "code",
   "execution_count": 4,
   "metadata": {
    "collapsed": false
   },
   "outputs": [
    {
     "name": "stdout",
     "output_type": "stream",
     "text": [
      "11 required packages:\n",
      " - ArgParse                      0.3.0\n",
      " - Cairo                         0.2.33\n",
      " - ComposeDiff                   0.0.1\n",
      " - DataFrames                    0.7.3\n",
      " - Escher                        0.3.2\n",
      " - Gadfly                        0.4.2\n",
      " - Humanize                      0.4.0\n",
      " - IJulia                        1.1.10\n",
      " - Interact                      0.3.1\n",
      " - JSON                          0.5.4\n",
      " - Requests                      0.3.7\n",
      "60 additional packages:\n",
      " - ArrayViews                    0.6.4\n",
      " - Benchmark                     0.1.0\n",
      " - BinDeps                       0.3.21\n",
      " - BufferedStreams               0.1.4\n",
      " - Calculus                      0.1.15\n",
      " - Codecs                        0.1.5\n",
      " - ColorTypes                    0.2.3\n",
      " - Colors                        0.6.5\n",
      " - Compat                        0.8.2\n",
      " - Compose                       0.4.2\n",
      " - Conda                         0.2.1\n",
      " - Contour                       0.1.0\n",
      " - DataArrays                    0.3.3\n",
      " - DataStructures                0.4.4\n",
      " - Dates                         0.4.4\n",
      " - Distances                     0.3.1\n",
      " - Distributions                 0.9.0\n",
      " - Docile                        0.5.23\n",
      " - DualNumbers                   0.2.2\n",
      " - FactCheck                     0.4.3\n",
      " - FixedPointNumbers             0.1.3\n",
      " - FixedSizeArrays               0.2.1\n",
      " - FunctionalCollections         0.1.3\n",
      " - GZip                          0.2.19\n",
      " - Graphics                      0.1.3\n",
      " - Grid                          0.4.0\n",
      " - Hexagons                      0.0.4\n",
      " - Hiccup                        0.0.2\n",
      " - HttpCommon                    0.2.6\n",
      " - HttpParser                    0.1.1\n",
      " - HttpServer                    0.1.5\n",
      " - Iterators                     0.1.9\n",
      " - KernelDensity                 0.1.2\n",
      " - Lazy                          0.10.1\n",
      " - Libz                          0.1.1\n",
      " - Loess                         0.0.6\n",
      " - MacroTools                    0.3.0\n",
      " - Markdown                      0.3.0\n",
      " - MbedTLS                       0.2.2\n",
      " - Measures                      0.0.2\n",
      " - Mux                           0.2.0\n",
      " - NaNMath                       0.2.1\n",
      " - Nettle                        0.2.3\n",
      " - Optim                         0.5.0\n",
      " - PDMats                        0.4.2\n",
      " - Patchwork                     0.2.2\n",
      " - PositiveFactorizations        0.0.1\n",
      " - Reactive                      0.3.3\n",
      " - Reexport                      0.0.3\n",
      " - Requires                      0.2.2\n",
      " - SHA                           0.1.2\n",
      " - Showoff                       0.0.7\n",
      " - SortingAlgorithms             0.0.6\n",
      " - StatsBase                     0.8.2\n",
      " - StatsFuns                     0.2.2\n",
      " - TextWrap                      0.1.5\n",
      " - URIParser                     0.1.4\n",
      " - WebSockets                    0.1.2\n",
      " - WoodburyMatrices              0.1.5\n",
      " - ZMQ                           0.3.2\n"
     ]
    }
   ],
   "source": [
    "Pkg.status()"
   ]
  }
 ],
 "metadata": {
  "kernelspec": {
   "display_name": "Julia 0.4.5",
   "language": "julia",
   "name": "julia-0.4"
  },
  "language_info": {
   "file_extension": ".jl",
   "mimetype": "application/julia",
   "name": "julia",
   "version": "0.4.5"
  }
 },
 "nbformat": 4,
 "nbformat_minor": 0
}
