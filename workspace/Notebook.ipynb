{
 "cells": [
  {
   "cell_type": "code",
   "execution_count": 1,
   "metadata": {},
   "outputs": [
    {
     "name": "stdout",
     "output_type": "stream",
     "text": [
      "Julia Version 0.6.2\n",
      "Commit d386e40c17 (2017-12-13 18:08 UTC)\n",
      "Platform Info:\n",
      "  OS: Linux (x86_64-pc-linux-gnu)\n",
      "  CPU: Intel(R) Core(TM) i5-4200U CPU @ 1.60GHz\n",
      "  WORD_SIZE: 64\n",
      "  BLAS: libopenblas (USE64BITINT DYNAMIC_ARCH NO_AFFINITY Haswell)\n",
      "  LAPACK: libopenblas64_\n",
      "  LIBM: libopenlibm\n",
      "  LLVM: libLLVM-3.9.1 (ORCJIT, haswell)\n"
     ]
    }
   ],
   "source": [
    "versioninfo()"
   ]
  },
  {
   "cell_type": "code",
   "execution_count": 2,
   "metadata": {},
   "outputs": [
    {
     "name": "stdout",
     "output_type": "stream",
     "text": [
      "7 required packages:\n",
      " - ArgParse                      0.5.0\n",
      " - DataFrames                    0.11.6\n",
      " - HTTP                          0.6.9\n",
      " - Humanize                      0.4.1\n",
      " - IJulia                        1.8.0\n",
      " - JSON                          0.17.2\n",
      " - Plots                         0.17.0\n",
      "35 additional packages:\n",
      " - BinDeps                       0.8.8\n",
      " - BinaryProvider                0.3.0\n",
      " - CategoricalArrays             0.3.9\n",
      " - CodecZlib                     0.4.3\n",
      " - ColorTypes                    0.6.7\n",
      " - Colors                        0.8.2\n",
      " - Compat                        0.63.0\n",
      " - Conda                         0.7.1\n",
      " - Contour                       0.4.0\n",
      " - DataStreams                   0.3.4\n",
      " - DataStructures                0.8.1\n",
      " - FixedPointNumbers             0.4.6\n",
      " - GR                            0.31.0\n",
      " - IniFile                       0.4.0\n",
      " - MbedTLS                       0.5.8\n",
      " - Measures                      0.2.0\n",
      " - Missings                      0.2.9\n",
      " - NaNMath                       0.3.1\n",
      " - NamedTuples                   4.0.0\n",
      " - Nullables                     0.0.5\n",
      " - PlotThemes                    0.2.0\n",
      " - PlotUtils                     0.4.4\n",
      " - RecipesBase                   0.2.3\n",
      " - Reexport                      0.1.0\n",
      " - Requires                      0.4.3\n",
      " - SHA                           0.5.7\n",
      " - Showoff                       0.1.1\n",
      " - SortingAlgorithms             0.2.1\n",
      " - StaticArrays                  0.7.0\n",
      " - StatsBase                     0.21.0\n",
      " - TextWrap                      0.2.0\n",
      " - TranscodingStreams            0.5.2\n",
      " - URIParser                     0.3.1\n",
      " - WeakRefStrings                0.4.4\n",
      " - ZMQ                           0.6.0\n"
     ]
    }
   ],
   "source": [
    "Pkg.status()"
   ]
  }
 ],
 "metadata": {
  "kernelspec": {
   "display_name": "Julia 0.6.0",
   "language": "julia",
   "name": "julia-0.6"
  },
  "language_info": {
   "file_extension": ".jl",
   "mimetype": "application/julia",
   "name": "julia",
   "version": "0.6.0"
  }
 },
 "nbformat": 4,
 "nbformat_minor": 1
}
