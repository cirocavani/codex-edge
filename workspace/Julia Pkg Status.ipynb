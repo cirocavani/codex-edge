{
 "cells": [
  {
   "cell_type": "code",
   "execution_count": 1,
   "metadata": {},
   "outputs": [
    {
     "name": "stdout",
     "output_type": "stream",
     "text": [
      "Julia Version 0.6.0\n",
      "Commit 9036443 (2017-06-19 13:05 UTC)\n",
      "Platform Info:\n",
      "  OS: Linux (x86_64-pc-linux-gnu)\n",
      "  CPU: Intel(R) Core(TM) i5-4200U CPU @ 1.60GHz\n",
      "  WORD_SIZE: 64\n",
      "  BLAS: libopenblas (USE64BITINT DYNAMIC_ARCH NO_AFFINITY Haswell)\n",
      "  LAPACK: libopenblas64_\n",
      "  LIBM: libopenlibm\n",
      "  LLVM: libLLVM-3.9.1 (ORCJIT, haswell)\n"
     ]
    }
   ],
   "source": [
    "versioninfo()"
   ]
  },
  {
   "cell_type": "code",
   "execution_count": 2,
   "metadata": {},
   "outputs": [
    {
     "name": "stdout",
     "output_type": "stream",
     "text": [
      "11 required packages:\n",
      " - ArgParse                      0.5.0\n",
      " - Cairo                         0.3.0\n",
      " - ComposeDiff                   0.0.2\n",
      " - DataFrames                    0.10.0\n",
      " - Escher                        0.3.3\n",
      " - Gadfly                        0.6.2\n",
      " - Humanize                      0.4.1\n",
      " - IJulia                        1.5.1\n",
      " - Interact                      0.4.5\n",
      " - JSON                          0.12.0\n",
      " - Requests                      0.4.1\n",
      "75 additional packages:\n",
      " - AbstractFFTs                  0.1.0\n",
      " - AxisAlgorithms                0.1.6\n",
      " - BinDeps                       0.6.0\n",
      " - BufferedStreams               0.3.3\n",
      " - Calculus                      0.2.2\n",
      " - Codecs                        0.3.0\n",
      " - ColorTypes                    0.5.1\n",
      " - Colors                        0.7.3\n",
      " - CommonSubexpressions          0.0.1\n",
      " - Compat                        0.26.0\n",
      " - Compose                       0.5.2\n",
      " - Conda                         0.5.3\n",
      " - Contour                       0.3.0\n",
      " - CoupledFields                 0.0.1\n",
      " - DataArrays                    0.5.3\n",
      " - DataStructures                0.5.3\n",
      " - Dates                         0.4.4\n",
      " - DiffBase                      0.2.0\n",
      " - Distances                     0.4.1\n",
      " - Distributions                 0.14.0\n",
      " - DualNumbers                   0.3.0\n",
      " - FFTW                          0.0.2\n",
      " - FileIO                        0.4.1\n",
      " - FixedPointNumbers             0.3.8\n",
      " - ForwardDiff                   0.5.0\n",
      " - FunctionalCollections         0.3.2\n",
      " - GZip                          0.3.0\n",
      " - Graphics                      0.2.0\n",
      " - Hexagons                      0.1.0\n",
      " - Hiccup                        0.1.1\n",
      " - HttpCommon                    0.2.7\n",
      " - HttpParser                    0.2.0\n",
      " - HttpServer                    0.2.0\n",
      " - Interpolations                0.6.2\n",
      " - Iterators                     0.3.1\n",
      " - Juno                          0.3.0\n",
      " - KernelDensity                 0.3.2\n",
      " - LaTeXStrings                  0.2.1\n",
      " - Lazy                          0.11.7\n",
      " - Libz                          0.2.4\n",
      " - LineSearches                  2.2.1\n",
      " - Loess                         0.2.0\n",
      " - MacroTools                    0.3.7\n",
      " - Markdown                      0.3.0\n",
      " - MbedTLS                       0.4.5\n",
      " - Measures                      0.1.0\n",
      " - Media                         0.3.0\n",
      " - Mux                           0.2.3\n",
      " - NLSolversBase                 2.1.3\n",
      " - NaNMath                       0.2.5\n",
      " - Optim                         0.9.2\n",
      " - PDMats                        0.7.0\n",
      " - Parameters                    0.7.2\n",
      " - Patchwork                     0.4.0\n",
      " - PositiveFactorizations        0.0.4\n",
      " - QuadGK                        0.1.2\n",
      " - Ratios                        0.1.0\n",
      " - Reactive                      0.5.2\n",
      " - RealInterface                 0.0.2\n",
      " - Reexport                      0.0.3\n",
      " - Requires                      0.4.3\n",
      " - Rmath                         0.1.7\n",
      " - SHA                           0.3.3\n",
      " - ShowItLikeYouBuildIt          0.0.1\n",
      " - Showoff                       0.1.1\n",
      " - SortingAlgorithms             0.1.1\n",
      " - SpecialFunctions              0.1.1\n",
      " - StaticArrays                  0.5.1\n",
      " - StatsBase                     0.17.0\n",
      " - StatsFuns                     0.5.0\n",
      " - TextWrap                      0.2.0\n",
      " - URIParser                     0.1.8\n",
      " - WebSockets                    0.2.3\n",
      " - WoodburyMatrices              0.2.2\n",
      " - ZMQ                           0.4.3\n"
     ]
    }
   ],
   "source": [
    "Pkg.status()"
   ]
  }
 ],
 "metadata": {
  "kernelspec": {
   "display_name": "Julia 0.6.0",
   "language": "julia",
   "name": "julia-0.6"
  },
  "language_info": {
   "file_extension": ".jl",
   "mimetype": "application/julia",
   "name": "julia",
   "version": "0.6.0"
  }
 },
 "nbformat": 4,
 "nbformat_minor": 1
}
